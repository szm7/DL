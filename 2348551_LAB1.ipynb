{
  "nbformat": 4,
  "nbformat_minor": 0,
  "metadata": {
    "colab": {
      "provenance": []
    },
    "kernelspec": {
      "name": "python3",
      "display_name": "Python 3"
    },
    "language_info": {
      "name": "python"
    }
  },
  "cells": [
    {
      "cell_type": "code",
      "execution_count": null,
      "metadata": {
        "colab": {
          "base_uri": "https://localhost:8080/"
        },
        "id": "Sh9XAB00I4W5",
        "outputId": "a5bb09f3-3d24-43cf-e2b9-7d42f6ed22fc"
      },
      "outputs": [
        {
          "output_type": "stream",
          "name": "stdout",
          "text": [
            "Initial weights and errors:\n",
            "AND perceptron:\n",
            "Errors: 2\n",
            "OR perceptron:\n",
            "Errors: 0\n",
            "NAND perceptron:\n",
            "Errors: 0\n",
            "XOR perceptron:\n",
            "Errors: 1\n",
            "\n",
            "Training perceptrons...\n",
            "Final weights: [-0.6  0.5  0.4]\n",
            "Total errors after training: 0\n",
            "Final weights: [-0.5  0.5  0.5]\n",
            "Total errors after training: 0\n",
            "Final weights: [ 0.5 -0.5 -0.5]\n",
            "Total errors after training: 0\n",
            "Final weights: [ 0.1 -0.2 -0.1]\n",
            "Total errors after training: 4\n"
          ]
        }
      ],
      "source": [
        "import numpy as np\n",
        "\n",
        "class Perceptron:\n",
        "    def __init__(self, input_size, learning_rate=0.1, epochs=100):\n",
        "        self.weights = np.zeros(input_size + 1)\n",
        "        self.learning_rate = learning_rate\n",
        "        self.epochs = epochs\n",
        "\n",
        "    def activation(self, x):\n",
        "        return 1 if x >= 0 else 0\n",
        "\n",
        "    def predict(self, inputs):\n",
        "        summation = np.dot(inputs, self.weights[1:]) + self.weights[0]\n",
        "        return self.activation(summation)\n",
        "\n",
        "    def train(self, training_inputs, labels):\n",
        "        for _ in range(self.epochs):\n",
        "            total_errors = 0\n",
        "            for inputs, label in zip(training_inputs, labels):\n",
        "                prediction = self.predict(inputs)\n",
        "                error = label - prediction\n",
        "                total_errors += np.abs(error)\n",
        "                self.weights[1:] += self.learning_rate * error * inputs\n",
        "                self.weights[0] += self.learning_rate * error\n",
        "            if total_errors == 0:\n",
        "                break\n",
        "        print(\"Final weights:\", self.weights)\n",
        "        print(\"Total errors after training:\", total_errors)\n",
        "\n",
        "# Define training data for each boolean function\n",
        "# AND function\n",
        "and_inputs = np.array([[0, 0], [0, 1], [1, 0], [1, 1]])\n",
        "and_labels = np.array([0, 0, 0, 1])\n",
        "\n",
        "# OR function\n",
        "or_inputs = np.array([[0, 0], [0, 1], [1, 0], [1, 1]])\n",
        "or_labels = np.array([0, 1, 1, 1])\n",
        "\n",
        "# NAND function\n",
        "nand_inputs = np.array([[0, 0], [0, 1], [1, 0], [1, 1]])\n",
        "nand_labels = np.array([1, 1, 1, 0])\n",
        "\n",
        "# XOR function\n",
        "xor_inputs = np.array([[0, 0], [0, 1], [1, 0], [1, 1]])\n",
        "xor_labels = np.array([0, 1, 1, 0])\n",
        "\n",
        "# Create perceptrons for each boolean function\n",
        "and_perceptron = Perceptron(2)\n",
        "or_perceptron = Perceptron(2)\n",
        "nand_perceptron = Perceptron(2)\n",
        "xor_perceptron = Perceptron(2)\n",
        "\n",
        "# Manual assignment of weights for each function\n",
        "and_perceptron.weights = np.array([-0.5, 0.5, 0.5])  # Manually assigned weights\n",
        "or_perceptron.weights = np.array([-0.5, 0.5, 0.5])   # Manually assigned weights\n",
        "nand_perceptron.weights = np.array([0.5, -0.5, -0.5]) # Manually assigned weights\n",
        "xor_perceptron.weights = np.array([-0.5, 0.5, 0.5])  # Manually assigned weights\n",
        "\n",
        "# Display number of errors before training\n",
        "print(\"Initial weights and errors:\")\n",
        "print(\"AND perceptron:\")\n",
        "and_errors = sum([1 for inputs, label in zip(and_inputs, and_labels) if and_perceptron.predict(inputs) != label])\n",
        "print(\"Errors:\", and_errors)\n",
        "print(\"OR perceptron:\")\n",
        "or_errors = sum([1 for inputs, label in zip(or_inputs, or_labels) if or_perceptron.predict(inputs) != label])\n",
        "print(\"Errors:\", or_errors)\n",
        "print(\"NAND perceptron:\")\n",
        "nand_errors = sum([1 for inputs, label in zip(nand_inputs, nand_labels) if nand_perceptron.predict(inputs) != label])\n",
        "print(\"Errors:\", nand_errors)\n",
        "print(\"XOR perceptron:\")\n",
        "xor_errors = sum([1 for inputs, label in zip(xor_inputs, xor_labels) if xor_perceptron.predict(inputs) != label])\n",
        "print(\"Errors:\", xor_errors)\n",
        "\n",
        "# Train perceptrons\n",
        "print(\"\\nTraining perceptrons...\")\n",
        "and_perceptron.train(and_inputs, and_labels)\n",
        "or_perceptron.train(or_inputs, or_labels)\n",
        "nand_perceptron.train(nand_inputs, nand_labels)\n",
        "xor_perceptron.train(xor_inputs, xor_labels)\n"
      ]
    }
  ]
}